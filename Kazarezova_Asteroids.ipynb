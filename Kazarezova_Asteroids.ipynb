{
 "cells": [
  {
   "cell_type": "markdown",
   "metadata": {},
   "source": [
    "# Изображение корабля и астероидов, счёт рейтинга"
   ]
  },
  {
   "cell_type": "code",
   "execution_count": null,
   "metadata": {},
   "outputs": [],
   "source": [
    "#Импортируем библиотеку\n",
    "import arcade\n",
    "\n",
    "SCREEN_WIDTH = 800\n",
    "SCREEN_HEIGHT = 460\n",
    "\n",
    "#Функция для изображения корабля\n",
    "def draw_ship(x,y):\n",
    "    arcade.draw_polygon_filled(((SCREEN_WIDTH*0.49+x, SCREEN_HEIGHT*0.47+y),\n",
    "                                (SCREEN_WIDTH*0.5+x, SCREEN_HEIGHT*0.49+y),\n",
    "                                (SCREEN_WIDTH*0.51+x, SCREEN_HEIGHT*0.47+y),\n",
    "                                (SCREEN_WIDTH*0.5+x, SCREEN_HEIGHT*0.53+y)\n",
    "                                ),\n",
    "                               arcade.csscolor.AZURE)\n",
    "\n",
    "#Функция для изображения обычных астериодов\n",
    "def draw_normal_asteroid(x,y):\n",
    "    arcade.draw_circle_filled(center_x=SCREEN_WIDTH*0.14+x, center_y=SCREEN_HEIGHT*0.44+y, radius=SCREEN_WIDTH*0.015, color=arcade.csscolor.LIGHT_BLUE)\n",
    "\n",
    "#Функция для изображения очень крепких астериодов\n",
    "def draw_strong_asteroid(x,y):\n",
    "    arcade.draw_circle_filled(center_x=SCREEN_WIDTH*0.86+x, center_y=SCREEN_HEIGHT*0.69+y, radius=SCREEN_WIDTH*0.03, color=arcade.csscolor.LIGHT_CORAL)\n",
    "\n",
    "\n",
    "#Функция для изображения текста инструкции\n",
    "def draw_instructions(x,y):\n",
    "    arcade.draw_text(\"Your rating will grow with time ;)\",\n",
    "                 SCREEN_WIDTH*0.28+x, SCREEN_HEIGHT*0.1+y,\n",
    "                 arcade.color.WHITE, 20)\n",
    "\n",
    "\n",
    "#Функция, изображающая всё\n",
    "def on_draw(delta_time):\n",
    "    arcade.start_render()\n",
    "    draw_ship(1,1)\n",
    "    on_draw.ship1_x += 1 #Смещение корабля\n",
    "    draw_normal_asteroid(1,1)\n",
    "    draw_normal_asteroid(100,230)\n",
    "    draw_normal_asteroid(450,40)\n",
    "    draw_normal_asteroid(550,-100)\n",
    "    draw_strong_asteroid(1,1)\n",
    "    draw_strong_asteroid(-350,-180)\n",
    "    draw_instructions(1,1)\n",
    "    rating += 0.1 #Рост рейтинга со временем\n",
    "    return rating #Возвращает значение рейтинга\n",
    "    \n",
    "on_draw.ship1_x = 150 #Начальное положение корабля\n",
    "    \n",
    "def main():\n",
    "    #Открываем окно, указываем его размер и название\n",
    "    arcade.open_window(SCREEN_WIDTH, SCREEN_HEIGHT, \"a la Asteroids\")\n",
    "    #Указываем цвет фона\n",
    "    arcade.set_background_color(arcade.csscolor.MIDNIGHT_BLUE)\n",
    "    #Чтобы анимировать, задаём частоту изменения картинки\n",
    "    arcade.schedule(on_draw, 1/60)\n",
    "    rating=0 #Начальный рейтинг\n",
    "    rating=on_draw(1/60) #Захватить значение рейтинга\n",
    "    #Запустить\n",
    "    arcade.run()\n",
    "\n",
    "main()"
   ]
  },
  {
   "cell_type": "markdown",
   "metadata": {},
   "source": [
    "# Сохранение рейтинга в csv"
   ]
  },
  {
   "cell_type": "code",
   "execution_count": null,
   "metadata": {},
   "outputs": [],
   "source": [
    "#Импортируем библиотеки\n",
    "import argparse\n",
    "import csv\n",
    "\n",
    "#Узнаём имя игрока\n",
    "parser = argparse.ArgumentParser()\n",
    "parser.add_argument('-f', '--file', type=str, help='a given name will be used to save a player\\'s rating')\n",
    "args=parser.parse_args()\n",
    "name=args\n",
    "\n",
    "#Функция для записи в csv файл\n",
    "def csv_writer(data, path):\n",
    "    \"\"\"\n",
    "    Write data to a CSV file path\n",
    "    \"\"\"\n",
    "    with open(path, \"w\", newline='') as csv_file:\n",
    "        writer = csv.writer(csv_file, delimiter=',')\n",
    "        for line in data:\n",
    "            writer.writerow(line)\n",
    " \n",
    "if __name__ == \"__main__\":\n",
    "    data = [\"name,rating\".split(\",\"),\n",
    "            \"{name},{rating}\".split(\",\"),\n",
    "            ]\n",
    "    \n",
    "    path = \"rating.csv\"\n",
    "    csv_writer(data, path)"
   ]
  }
 ],
 "metadata": {
  "kernelspec": {
   "display_name": "Python 3",
   "language": "python",
   "name": "python3"
  },
  "language_info": {
   "codemirror_mode": {
    "name": "ipython",
    "version": 3
   },
   "file_extension": ".py",
   "mimetype": "text/x-python",
   "name": "python",
   "nbconvert_exporter": "python",
   "pygments_lexer": "ipython3",
   "version": "3.7.4"
  }
 },
 "nbformat": 4,
 "nbformat_minor": 2
}
